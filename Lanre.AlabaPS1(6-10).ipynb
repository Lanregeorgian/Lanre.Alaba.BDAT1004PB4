{
 "cells": [
  {
   "cell_type": "markdown",
   "id": "21836077-ffa6-4db1-ab06-83ea475b56f2",
   "metadata": {},
   "source": [
    "Question 6"
   ]
  },
  {
   "cell_type": "code",
   "execution_count": 2,
   "id": "b1d222dc-6f32-418b-b3dd-a1527eaee7bc",
   "metadata": {},
   "outputs": [],
   "source": [
    "def pig(word):\n",
    "    vowels = 'aeiou'\n",
    "    word = word.lower()\n",
    "    if word[0] not in vowels:\n",
    "        result = word[1:]+word[0]+'ay'\n",
    "    else:\n",
    "        result = word+'way'\n",
    "    return result"
   ]
  },
  {
   "cell_type": "code",
   "execution_count": 4,
   "id": "bd74c2c1-f277-47f6-856e-45a35806ef76",
   "metadata": {},
   "outputs": [
    {
     "name": "stdout",
     "output_type": "stream",
     "text": [
      "appyhay\n"
     ]
    }
   ],
   "source": [
    "print(pig('Happy'))"
   ]
  },
  {
   "cell_type": "code",
   "execution_count": 6,
   "id": "0fdedb09-d35f-4b7d-ab7b-7741136e0129",
   "metadata": {},
   "outputs": [
    {
     "name": "stdout",
     "output_type": "stream",
     "text": [
      "enterway\n"
     ]
    }
   ],
   "source": [
    "print(pig('Enter'))"
   ]
  },
  {
   "cell_type": "markdown",
   "id": "b05e5757-d22a-4295-8c75-4678a8a339a1",
   "metadata": {},
   "source": [
    "Question 7"
   ]
  },
  {
   "cell_type": "code",
   "execution_count": 11,
   "id": "06351eb0-60bb-435c-bfe3-9c1f06771bfc",
   "metadata": {},
   "outputs": [],
   "source": [
    "def bldCount(filePath):\n",
    "    res = {'A': 0, 'B': 0, 'AB':0, 'O': 0, 'OO': 0}\n",
    "    file = open(filePath)\n",
    "    bloodType = ''\n",
    "    for i in file.readlines():\n",
    "        bloodType = i.split(' ')\n",
    "    file.close()\n",
    "    for i in bloodType:\n",
    "        if i in res:\n",
    "            res[i] = res[i] + 1\n",
    "    for bloodType in res:\n",
    "        if res[bloodType] == 0:\n",
    "            print(\"There are no patients of bloodtype \" + bloodType)\n",
    "        elif res[bloodType] == 1:\n",
    "            print(\"There is one patient of bloodtype \" + bloodType)\n",
    "        else:\n",
    "            print(\"There are \" + str(res[bloodType]) + \" patients of bloodtype \"  + bloodType)\n",
    "    \n",
    "    "
   ]
  },
  {
   "cell_type": "code",
   "execution_count": 21,
   "id": "63120537-4572-4a12-ac02-552dac185838",
   "metadata": {},
   "outputs": [
    {
     "name": "stdout",
     "output_type": "stream",
     "text": [
      "There are 15 patients of bloodtype A\n",
      "There is one patient of bloodtype B\n",
      "There are 13 patients of bloodtype AB\n",
      "There are 15 patients of bloodtype O\n",
      "There are no patients of bloodtype OO\n"
     ]
    }
   ],
   "source": [
    "bldCount(\"OneDrive/Desktop/big data semester 2/BDAT 1004 Data analytics Programmiing/bloodtype1.txt\")"
   ]
  },
  {
   "cell_type": "markdown",
   "id": "b05f1260-aefb-4a7a-bca3-24f299bc7e2a",
   "metadata": {},
   "source": [
    "Question 8"
   ]
  },
  {
   "cell_type": "code",
   "execution_count": 90,
   "id": "9d4a8383-76a3-454e-a500-03d96d950ed1",
   "metadata": {},
   "outputs": [],
   "source": [
    "def curconv(curr, amount):\n",
    "    file = open('currencies.txt', 'r')\n",
    "    for i in file.readlines():\n",
    "        firstLine = i.split('\\t')\n",
    "        if curr == firstLine[0]:\n",
    "            res =  float(firstLine[1]) * amount\n",
    "            file.close()\n",
    "            print(res)\n",
    "            return"
   ]
  },
  {
   "cell_type": "code",
   "execution_count": 92,
   "id": "e47e37d4-cd9b-458d-a335-546446583011",
   "metadata": {},
   "outputs": [
    {
     "name": "stdout",
     "output_type": "stream",
     "text": [
      "103.45157\n"
     ]
    }
   ],
   "source": [
    "curconv('AUD', 100)"
   ]
  },
  {
   "cell_type": "markdown",
   "id": "6d068fa0-ec7a-4b2a-871e-68dfb4b4abb5",
   "metadata": {},
   "source": [
    "Question 9"
   ]
  },
  {
   "cell_type": "markdown",
   "id": "fec563b6-d596-4429-9563-fb7e7ee608e1",
   "metadata": {},
   "source": [
    "1) TypeError\r\n",
    "2) IndexError\r\n",
    "3) ValueError\r\n",
    "4) NameError\r\n",
    "5) FileNotFoundError"
   ]
  },
  {
   "cell_type": "markdown",
   "id": "67eadda2-00c7-4db8-ab1c-c27da846e474",
   "metadata": {},
   "source": [
    "Question 10"
   ]
  },
  {
   "cell_type": "code",
   "execution_count": 98,
   "id": "22c3d748-eedd-4bee-9d66-2750e9125c2a",
   "metadata": {},
   "outputs": [],
   "source": [
    "def frequencies(text):\n",
    "    letters = {'a': 0, 'b': 0, 'c': 0, 'd': 0, 'e': 0, 'f': 0, 'g': 0, 'h': 0, 'i': 0, 'j': 0, 'k': 0, 'l': 0, 'm': 0, 'n': 0, 'o': 0, 'p': 0, 'q': 0, 'r': 0, 's': 0, 't': 0, 'u': 0, 'v': 0, 'w': 0, 'x': 0, 'y': 0, 'z': 0}\n",
    "    for i in text:\n",
    "        if i.lower() in letters:\n",
    "            letters[i.lower()] = letters[i.lower()] + 1\n",
    "    return letters.values()"
   ]
  },
  {
   "cell_type": "code",
   "execution_count": 100,
   "id": "c255b877-e384-41b1-a6b7-bafc008c7bd6",
   "metadata": {},
   "outputs": [
    {
     "name": "stdout",
     "output_type": "stream",
     "text": [
      "dict_values([1, 1, 1, 3, 5, 1, 1, 2, 1, 0, 1, 0, 1, 2, 4, 0, 1, 2, 0, 3, 1, 0, 1, 1, 0, 0])\n"
     ]
    }
   ],
   "source": [
    "print(frequencies('The quick red fox got bored and went home'))"
   ]
  },
  {
   "cell_type": "code",
   "execution_count": 102,
   "id": "5fb82461-7e3f-4260-aa89-300e1b7fef4d",
   "metadata": {},
   "outputs": [
    {
     "name": "stdout",
     "output_type": "stream",
     "text": [
      "dict_values([1, 0, 0, 0, 1, 0, 0, 0, 0, 0, 0, 1, 0, 0, 0, 2, 0, 0, 0, 0, 0, 0, 0, 0, 0, 0])\n"
     ]
    }
   ],
   "source": [
    "print(frequencies('apple'))"
   ]
  },
  {
   "cell_type": "code",
   "execution_count": null,
   "id": "e408a576-3fbc-4397-bcf2-5d2b846b09b8",
   "metadata": {},
   "outputs": [],
   "source": []
  }
 ],
 "metadata": {
  "kernelspec": {
   "display_name": "Python 3 (ipykernel)",
   "language": "python",
   "name": "python3"
  },
  "language_info": {
   "codemirror_mode": {
    "name": "ipython",
    "version": 3
   },
   "file_extension": ".py",
   "mimetype": "text/x-python",
   "name": "python",
   "nbconvert_exporter": "python",
   "pygments_lexer": "ipython3",
   "version": "3.12.4"
  }
 },
 "nbformat": 4,
 "nbformat_minor": 5
}
