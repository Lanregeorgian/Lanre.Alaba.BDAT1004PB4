{
 "cells": [
  {
   "cell_type": "markdown",
   "id": "349cee22-af7a-496a-b505-3b48a8e9de29",
   "metadata": {},
   "source": [
    "# Question 1"
   ]
  },
  {
   "cell_type": "code",
   "execution_count": 8,
   "id": "220ea7a2-9df7-401e-9bd5-621f31887d93",
   "metadata": {},
   "outputs": [
    {
     "name": "stdout",
     "output_type": "stream",
     "text": [
      "System.Int32\n",
      "System.Double\n",
      "System.Boolean\n",
      "System.Char\n",
      "System.Int32\n",
      "System.Int32\n",
      "System.Int32\n",
      "System.Int32\n",
      "System.Int32\n",
      "System.Int32[]\n",
      "System.Boolean\n",
      "System.Double\n"
     ]
    }
   ],
   "source": [
    "Console.WriteLine(5.GetType());               \n",
    "Console.WriteLine(5.0.GetType());             \n",
    "Console.WriteLine((5 > 1).GetType());         \n",
    "Console.WriteLine('5'.GetType());             \n",
    "Console.WriteLine((5 * 2).GetType());                \n",
    "Console.WriteLine(('5' * 2).GetType());\n",
    "Console.WriteLine(('5' + '2').GetType());    \n",
    "Console.WriteLine((5 / 2).GetType());         \n",
    "Console.WriteLine((5 % 2).GetType());        \n",
    "Console.WriteLine(new int[] { 5, 2, 1 }.GetType());\n",
    "Console.WriteLine((5 == 3).GetType());\n",
    "double pi = Math.PI;\n",
    "Console.WriteLine(pi.GetType());"
   ]
  },
  {
   "cell_type": "markdown",
   "id": "00458bce-43d2-4d2e-9043-e10d76227fb2",
   "metadata": {},
   "source": [
    "# Question 2"
   ]
  },
  {
   "cell_type": "code",
   "execution_count": 13,
   "id": "e6c5d388-1fae-4d08-9b75-fd0fd11ee893",
   "metadata": {},
   "outputs": [
    {
     "name": "stdout",
     "output_type": "stream",
     "text": [
      "34\n"
     ]
    }
   ],
   "source": [
    "string word = \"Supercalifragilisticexpialidocious\";\n",
    "Console.WriteLine(word.Length)\n"
   ]
  },
  {
   "cell_type": "code",
   "execution_count": 17,
   "id": "f391dc14-6b35-43e0-87d4-e2bec76a9e5b",
   "metadata": {},
   "outputs": [
    {
     "name": "stdout",
     "output_type": "stream",
     "text": [
      "True\n"
     ]
    }
   ],
   "source": [
    "string word = \"Supercalifragilisticexpialidocious\";\n",
    "bool containsIce = word.Contains(\"ice\");\n",
    "Console.WriteLine(containsIce)\n"
   ]
  },
  {
   "cell_type": "code",
   "execution_count": 80,
   "id": "018db00d-7a06-469a-af98-d706d16b7890",
   "metadata": {},
   "outputs": [
    {
     "name": "stdout",
     "output_type": "stream",
     "text": [
      "Length of 'Supercalifragilisticexpialidocious' is: 34\n",
      "Length of 'Honorificabilitudinitatibus' is: 27\n",
      "Length of 'Bababadalgharaghtakamminarronnkonn' is: 34\n",
      "Supercalifragilisticexpialidocious\n",
      "Bababadalgharaghtakamminarronnkonn\n"
     ]
    }
   ],
   "source": [
    "string word1 = \"Supercalifragilisticexpialidocious\";\n",
    "string word2 = \"Honorificabilitudinitatibus\";\n",
    "string word3 = \"Bababadalgharaghtakamminarronnkonn\";\n",
    "\n",
    "int length1 = word1.Length;  \n",
    "int length2 = word2.Length; \n",
    "int length3 = word3.Length; \n",
    "\n",
    "Console.WriteLine($\"Length of '{word1}' is: {length1}\");\n",
    "Console.WriteLine($\"Length of '{word2}' is: {length2}\");\n",
    "Console.WriteLine($\"Length of '{word3}' is: {length3}\");\n",
    "\n",
    "\n",
    "\n",
    "if (length1 == maxLength)\n",
    "    Console.WriteLine(word1);\n",
    "if (length2 == maxLength)\n",
    "    Console.WriteLine(word2); \n",
    "if (length3 == maxLength)\n",
    "    Console.WriteLine(word3);\n"
   ]
  },
  {
   "cell_type": "code",
   "execution_count": 82,
   "id": "cbcd718b-3e0c-4b02-b67f-966294c369de",
   "metadata": {},
   "outputs": [
    {
     "name": "stdout",
     "output_type": "stream",
     "text": [
      "First composer: Bartok\n",
      "Last composer: Buxtehude\n"
     ]
    }
   ],
   "source": [
    "string[] composers = \n",
    "{ \n",
    "    \"Berlioz\", \"Borodin\", \"Brian\", \"Bartok\", \"Bellini\", \"Buxtehude\", \"Bernstein\" \n",
    "};\n",
    "Array.Sort(composers);\n",
    "string firstComposer = composers[0];\n",
    "string lastComposer = composers[composers.Length - 1];\n",
    "Console.WriteLine($\"First composer: {firstComposer}\");\n",
    "Console.WriteLine($\"Last composer: {lastComposer}\");\n"
   ]
  },
  {
   "cell_type": "markdown",
   "id": "c6b3731f-ebfa-4b2c-9b7d-d67eaa0882f9",
   "metadata": {},
   "source": [
    "# Question 3"
   ]
  },
  {
   "cell_type": "code",
   "execution_count": 137,
   "id": "046a5fba-e858-49c2-938a-05364b258dbd",
   "metadata": {},
   "outputs": [],
   "source": [
    "double TriangleArea(double a, double b, double c)\n",
    "{\n",
    "    double s = (a + b + c) / 2;\n",
    "    double area = Math.Sqrt(s * (s - a) * (s - b) * (s - c));\n",
    "    return area;\n",
    "}"
   ]
  },
  {
   "cell_type": "code",
   "execution_count": 139,
   "id": "316566e2-5ec5-4f66-b085-8f183c634733",
   "metadata": {},
   "outputs": [
    {
     "name": "stdout",
     "output_type": "stream",
     "text": [
      "The area of the triangle is: 1.7320508075688772\n"
     ]
    }
   ],
   "source": [
    "double area = TriangleArea(2, 2, 2);\n",
    "Console.WriteLine($\"The area of the triangle is: {area}\");"
   ]
  },
  {
   "cell_type": "markdown",
   "id": "33949673-2482-4a4e-a8b7-a225070449e9",
   "metadata": {},
   "source": [
    "# Question 4 (ran on VS code)."
   ]
  },
  {
   "cell_type": "code",
   "execution_count": 151,
   "id": "beec0edc-ac68-42da-b1ef-164b3dc7eeee",
   "metadata": {},
   "outputs": [
    {
     "name": "stdout",
     "output_type": "stream",
     "text": [
      "Input the number of elements to be stored in the array: "
     ]
    },
    {
     "ename": "Error",
     "evalue": "System.ArgumentNullException: Value cannot be null. (Parameter 's')\r\n   at System.Int32.Parse(String s)\r\n   at Submission#153.<<Initialize>>d__0.MoveNext()\r\n--- End of stack trace from previous location ---\r\n   at Microsoft.CodeAnalysis.Scripting.ScriptExecutionState.RunSubmissionsAsync[TResult](ImmutableArray`1 precedingExecutors, Func`2 currentExecutor, StrongBox`1 exceptionHolderOpt, Func`2 catchExceptionOpt, CancellationToken cancellationToken)",
     "output_type": "error",
     "traceback": [
      "System.ArgumentNullException: Value cannot be null. (Parameter 's')\r\n   at System.Int32.Parse(String s)\r\n   at Submission#153.<<Initialize>>d__0.MoveNext()\r\n--- End of stack trace from previous location ---\r\n   at Microsoft.CodeAnalysis.Scripting.ScriptExecutionState.RunSubmissionsAsync[TResult](ImmutableArray`1 precedingExecutors, Func`2 currentExecutor, StrongBox`1 exceptionHolderOpt, Func`2 catchExceptionOpt, CancellationToken cancellationToken)",
      "   at System.Int32.Parse(String s)",
      "   at Submission#153.<<Initialize>>d__0.MoveNext()",
      "--- End of stack trace from previous location ---",
      "   at Microsoft.CodeAnalysis.Scripting.ScriptExecutionState.RunSubmissionsAsync[TResult](ImmutableArray`1 precedingExecutors, Func`2 currentExecutor, StrongBox`1 exceptionHolderOpt, Func`2 catchExceptionOpt, CancellationToken cancellationToken)"
     ]
    }
   ],
   "source": [
    "Console.Write(\"Input the number of elements to be stored in the array: \");\n",
    "int n = int.Parse(Console.ReadLine());\n",
    "\n",
    "int[] numbers = new int[n];\n",
    "Console.WriteLine($\"Input {n} elements in the array:\");\n",
    "\n",
    "for (int i = 0; i < n; i++)\n",
    "{\n",
    "    Console.Write($\"element - {i} : \");\n",
    "    numbers[i] = int.Parse(Console.ReadLine());\n",
    "}\n",
    "\n",
    "List<int> evenNumbers = new List<int>();\n",
    "List<int> oddNumbers = new List<int>();\n",
    "\n",
    "foreach (int number in numbers)\n",
    "{\n",
    "    if (number % 2 == 0)\n",
    "    {\n",
    "        evenNumbers.Add(number);\n",
    "    }\n",
    "    else\n",
    "    {\n",
    "        oddNumbers.Add(number);\n",
    "    }\n",
    "}\n",
    "\n",
    "Console.WriteLine(\"The Even elements are:\");\n",
    "foreach (int even in evenNumbers)\n",
    "{\n",
    "    Console.Write(even + \" \");\n",
    "}\n",
    "Console.WriteLine();\n",
    "\n",
    "Console.WriteLine(\"The Odd elements are:\");\n",
    "foreach (int odd in oddNumbers)\n",
    "{\n",
    "    Console.Write(odd + \" \");\n",
    "}\n",
    "Console.WriteLine();"
   ]
  },
  {
   "cell_type": "markdown",
   "id": "2d86e602-4ffb-4fd5-a89a-1696b53ff632",
   "metadata": {},
   "source": [
    "# Question 5(a)"
   ]
  },
  {
   "cell_type": "code",
   "execution_count": 184,
   "id": "818e06f7-5896-47de-a54a-2e5e02066d20",
   "metadata": {},
   "outputs": [],
   "source": [
    "static bool Inside(float x, float y, float x1, float y1, float x2, float y2)\n",
    "    {\n",
    "        return x1 <= x && x <= x2 && y1 <= y && y <= y2;\n",
    "    }"
   ]
  },
  {
   "cell_type": "code",
   "execution_count": 186,
   "id": "271253af-e19f-485a-a083-6695c9dcded9",
   "metadata": {},
   "outputs": [
    {
     "name": "stdout",
     "output_type": "stream",
     "text": [
      "True\n",
      "False\n"
     ]
    }
   ],
   "source": [
    "Console.WriteLine(Inside(1, 1, 0, 0, 2, 3)); \n",
    "Console.WriteLine(Inside(-1, -1, 0, 0, 2, 3)); "
   ]
  },
  {
   "cell_type": "markdown",
   "id": "39a85e78-8924-4430-b242-5408fed0fda5",
   "metadata": {},
   "source": [
    "# Quesion 5(b)"
   ]
  },
  {
   "cell_type": "code",
   "execution_count": 190,
   "id": "9d208508-dca4-405a-bb61-fe92299b6370",
   "metadata": {},
   "outputs": [
    {
     "name": "stdout",
     "output_type": "stream",
     "text": [
      "False\n"
     ]
    }
   ],
   "source": [
    "bool isInsideBoth = Inside(1f, 1f, 0.3f, 0.5f, 1.1f, 0.7f) && Inside(1f, 1f, 0.5f, 0.2f, 1.1f, 2f);\n",
    "Console.WriteLine(isInsideBoth);"
   ]
  },
  {
   "cell_type": "code",
   "execution_count": null,
   "id": "9a7748bf-c9d7-4607-92af-ddbe69199b2b",
   "metadata": {},
   "outputs": [],
   "source": []
  }
 ],
 "metadata": {
  "kernelspec": {
   "display_name": ".NET (C#)",
   "language": "C#",
   "name": ".net-csharp"
  },
  "language_info": {
   "file_extension": ".cs",
   "mimetype": "text/x-csharp",
   "name": "C#",
   "pygments_lexer": "csharp",
   "version": "12.0"
  }
 },
 "nbformat": 4,
 "nbformat_minor": 5
}
